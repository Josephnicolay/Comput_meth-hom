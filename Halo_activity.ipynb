{
 "metadata": {
  "kernelspec": {
   "display_name": "Python 2",
   "language": "python",
   "name": "python2"
  },
  "language_info": {
   "codemirror_mode": {
    "name": "ipython",
    "version": 2
   },
   "file_extension": ".py",
   "mimetype": "text/x-python",
   "name": "python",
   "nbconvert_exporter": "python",
   "pygments_lexer": "ipython2",
   "version": "2.7.10"
  },
  "name": "",
  "signature": "sha256:7b936e5446720e490d79664c1b6caf28082b452a99e9b23008d1407ce7be6a99"
 },
 "nbformat": 3,
 "nbformat_minor": 0,
 "worksheets": [
  {
   "cells": [
    {
     "cell_type": "markdown",
     "metadata": {},
     "source": [
      "## Far halos radiation\n",
      "\n",
      "The radiation comming from far halos towards us, can be intercepted by nearer halos which would deviate the light. This deviation causes that the image we would get from far halos change not only in form but intensity. Find for the next far halos ($z>5$) which ones suffer deviation from nearer halos. \n",
      "\n",
      "**1.** Load the data.\n",
      "\n",
      "**2.** Use trigonometric functions to find the positions of the halos. \n",
      "\n",
      "**3.** Use conditions and loops to find which far halos suffer a deviation. \n",
      "\n",
      "**4.** Save the information related with the far halos found in a ascci file.\n",
      "\n",
      "**5.** Choose a plane ( i.e, xy ) to plot several halos which light is deflected and the halos causing the deviation. Plot the line that shows the path of the light from the far halo to the earth. \n",
      "\n",
      "\n",
      "The next file contains the information related to the halos. The first column is the right ascension (RA), the second is the declination (DEC), the third one is the redshift, the fourth is the radial distance from earth, the fifth is the mass and the last one is the radio of the halo. \n",
      "\n",
      "https://github.com/NATYML/Comput_meth-hom/blob/master/Data/halos.dat\n",
      "\n",
      "\n",
      "**Note:** The azimuth angle is given by $\\pi/2 - (DEC)$ and the polar angle is given by $RA$.\n",
      "\n"
     ]
    }
   ],
   "metadata": {}
  }
 ]
}