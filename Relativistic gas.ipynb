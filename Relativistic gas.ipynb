{
 "cells": [
  {
   "cell_type": "markdown",
   "metadata": {},
   "source": [
    "## Relativistic gas"
   ]
  },
  {
   "cell_type": "markdown",
   "metadata": {
    "collapsed": true
   },
   "source": [
    "Several of astrophysical systems can be described with the help of hydrodynamics and general relativy. Due to the complexity of these systems, there are only a few analytical solutions for them, and that explains why is necessary to use numerical methods. For example, to determine the dynamics of a gas nearby a black hole is necessary to recover the generic hydrodynamic quantities given by the next system of equations:\n",
    "\n",
    "the next expression provides the evolution of the total relativistic energy density measured by an eulerian observer \n",
    "\n",
    "$$ \\frac{d}{dt}[\\alpha E - \\beta^i S_i] = -\\frac{1}{D^*}\\left[ \\partial_i [-\\sqrt{-g}(p+q)v^i] + \\frac{\\sqrt{-g}}{2} T^{\\alpha\\beta}\\partial_t g_{\\alpha\\beta} \\right] $$\n",
    "\n",
    "where E is the total relativistic specific energy. Also, a continuity equation is satisfied\n",
    "\n",
    "$$\\frac{dD^*}{dt} + D^*\\partial_i v^i = 0$$\n",
    "\n",
    "where $D^*$ is the relativistic rest-mass density. And the expression\n",
    "\n",
    "$$ \\frac{d}{dt}S_i = -\\frac{1}{D^*}\\left[ \\partial_i[\\sqrt{-g}(p+q)] -\\frac{\\sqrt{g}}{2}T^{\\alpha\\beta}\\partial_i g_{\\alpha\\beta} \\right] $$\n",
    "\n",
    "where $S_i$ is the relativistic specific momentum. Finally, considering that it satisfies the ideal gas equation \n",
    "\n",
    "$$p= (\\Gamma -1)\\rho\\epsilon$$\n",
    "\n",
    "with $\\Gamma$ being the ideal adiabatic constant. \n",
    "\n",
    "But in order to find the generic hydrodynamic quantities $(v^i,p,\\rho,\\epsilon)$ first is necessary to find the roots of the following fourth order equation \n",
    "\n",
    "$$(S^2- \\hat{E}^2)\\gamma^4 + 2G\\hat{E}\\gamma^3 + (\\hat{E}^2-2GS^2-G^2)\\gamma^2 - 2G\\hat{E}\\gamma + G^2(1+S^2) = 0$$\n",
    "\n",
    "where $G = 1 - 1/\\Gamma$ and the lorentz factor is given by $\\gamma = 1/\\sqrt{1-v^2/c^2}$. \n",
    "\n",
    "Consider a gas with $\\Gamma=1$ and rewrite the equation in terms of $a= S^2/\\hat{E^2}$. \n",
    "Choose a value such that $0<a<1$ and find the root with physical sense. \n",
    "\n",
    "http://aip.scitation.org/doi/abs/10.1063/1.3473873"
   ]
  }
 ],
 "metadata": {
  "kernelspec": {
   "display_name": "Python 2",
   "language": "python",
   "name": "python2"
  },
  "language_info": {
   "codemirror_mode": {
    "name": "ipython",
    "version": 2
   },
   "file_extension": ".py",
   "mimetype": "text/x-python",
   "name": "python",
   "nbconvert_exporter": "python",
   "pygments_lexer": "ipython2",
   "version": "2.7.14"
  }
 },
 "nbformat": 4,
 "nbformat_minor": 2
}
