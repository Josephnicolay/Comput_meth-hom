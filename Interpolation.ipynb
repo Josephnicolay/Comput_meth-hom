{
 "metadata": {
  "name": "",
  "signature": "sha256:9429db6a703ee00acdb2106797b74f0310c1aee7072a7b86563490c3e76b8054"
 },
 "nbformat": 3,
 "nbformat_minor": 0,
 "worksheets": [
  {
   "cells": [
    {
     "cell_type": "markdown",
     "metadata": {},
     "source": [
      "#Interpolation "
     ]
    },
    {
     "cell_type": "markdown",
     "metadata": {},
     "source": [
      "It is suspected that the high amounts of tannin in mature oak leaves inhibit the growth of the winter moth (Operophtera bromata L., Geometridae) larvae that extensively damage these trees in certain years. The following table lists the average weight of two samples of larvae at times in the first 28 days after birth. The first sample was reared on young oak leaves, whereas the second sample was reared on mature leaves from the same tree.\n",
      "\n",
      "a. Use Lagrange interpolation to approximate the average weight curve for each sample.\n",
      "\n",
      "<img src=\"./figures/oakdata.png\"style=\"width: 600px;\"/>\n"
     ]
    },
    {
     "cell_type": "markdown",
     "metadata": {},
     "source": [
      "A car traveling along a straight road is clocked at a number of points. The data from the observations are given in the following table, where the time is in seconds, the distance is in feet, and the speed is in feet per second.\n",
      "\n",
      "<img src=\"./figures/posvel.png\" style=\"width: 300px;\"/>\n",
      "\n",
      "a. Use a Hermite polynomial to predict the position of the car and its speed when t = 10 s.\n"
     ]
    }
   ],
   "metadata": {}
  }
 ]
}