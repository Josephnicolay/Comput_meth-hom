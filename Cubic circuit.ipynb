{
 "cells": [
  {
   "cell_type": "markdown",
   "metadata": {},
   "source": [
    "Task"
   ]
  },
  {
   "cell_type": "markdown",
   "metadata": {},
   "source": [
    "This homework is intended to use the library routines to solve the next system of equations.\n",
    "The point consists in knowing what happens to the equivalent resistance in a cube circuit array \n",
    "when changing one of the resistances.  \n"
   ]
  },
  {
   "cell_type": "markdown",
   "metadata": {},
   "source": [
    "Kirchhoff Law in a Cubic circuit array "
   ]
  },
  {
   "cell_type": "markdown",
   "metadata": {},
   "source": [
    "In electronics, it is commonly used the problem of a cubic circuit where all the resistances are equal. With this problem, it is intended to show that it is not necessary to use the kirchhoff law but instead using some symmetry arguments, to get the equivalent resistance of the system. \n"
   ]
  },
  {
   "cell_type": "markdown",
   "metadata": {},
   "source": [
    "<img src=\"./figures/resistorcube.png\" style=\"width: 200px;\"/>"
   ]
  },
  {
   "cell_type": "markdown",
   "metadata": {},
   "source": [
    "But, what happens to the equivalent resistance of the system when one of the resistances is changed to a different value of R? \n",
    "The next system of equations is obtained applying kirchhoff law to the cubic circuit\n",
    "with all resistances R equal to the same value except a resistance r. \n",
    "\n",
    "\\begin{equation*}\n",
    " 0 = I_1 + I_3 + I_5 − I_{13}\n",
    "\\end{equation*} \n",
    "\\begin{equation*}\n",
    "0 = −I_1 + I_2 − I_8\n",
    "\\end{equation*} \n",
    "\\begin{equation*}\n",
    "0 = −I_2 + I_4 − I_6\n",
    "\\end{equation*} \n",
    "\\begin{equation*}\n",
    "0 = −I_3 − I_4 − I_7\n",
    "\\end{equation*} \n",
    "\\begin{equation*}\n",
    "0 = −I_5 + I_9 + I_{12}\n",
    "\\end{equation*} \n",
    "\\begin{equation*}\n",
    " 0 = I_8 − I_9 + I_{11}\n",
    "\\end{equation*} \n",
    "\\begin{equation*}\n",
    "0 = I_6 − I_{10} − I_{11} + I_{13}\n",
    "\\end{equation*} \n",
    "\\begin{equation*}\n",
    "0 = −I_1R + I_5R + I_8R + I_9R\n",
    "\\end{equation*} \n",
    "\\begin{equation*}\n",
    "0 = I_2R − I_6R + I_8R − I_11R\n",
    "\\end{equation*} \n",
    "\\begin{equation*}\n",
    " 0 = −I_4R − I_6R + I_7R − I_10R\n",
    "\\end{equation*} \n",
    "\\begin{equation*}\n",
    " 0 = I_3r − I_5R − I_7R − I_{12}R\n",
    "\\end{equation*} \n",
    "\\begin{equation*}\n",
    "0 = -I_1R − I_2R + I_3r − I_4R\n",
    "\\end{equation*} \n",
    "\\begin{equation*}\n",
    "V = I_5R + I_9R + I_{11}R \n",
    "\\end{equation*} \n",
    "\n",
    "\n",
    "\n",
    "Then, Find the equivalent resistance, varying the value of the resistance r on the cubic circuit. \n",
    "Does it grow increasing or decreasing r? \n",
    "\n",
    "Make a plot of $R_{eq}$ vs $r$ in ohms where \n",
    "\n",
    "\\begin{equation*}\n",
    "R_{eq} = \\frac{V}{I_{13}}\n",
    "\\end{equation*}\n",
    "\n",
    "Show that the result obtained for $R_{eq}$ when r=R coincides with the symmetry argument result (valid when all resistances in the circuit have the same value R) given by\n",
    "\n",
    "\\begin{equation*}\n",
    "R_{eq} = \\frac{5}{6}R\n",
    "\\end{equation*}\n",
    "\n",
    "For the sake of simplicity it can be used R=1$\\Omega$. Choose a value $V$ you consider convenient. \n"
   ]
  }
 ],
 "metadata": {
  "kernelspec": {
   "display_name": "Python 2",
   "language": "python",
   "name": "python2"
  },
  "language_info": {
   "codemirror_mode": {
    "name": "ipython",
    "version": 2
   },
   "file_extension": ".py",
   "mimetype": "text/x-python",
   "name": "python",
   "nbconvert_exporter": "python",
   "pygments_lexer": "ipython2",
   "version": "2.7.13"
  }
 },
 "nbformat": 4,
 "nbformat_minor": 0
}
