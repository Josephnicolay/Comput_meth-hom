{
 "cells": [
  {
   "cell_type": "markdown",
   "metadata": {},
   "source": [
    "## Test 03\n",
    "\n",
    "Para el siguiente test deben entregar un reporte en la que cuenten sobre la forma en que abordan el problema, además de un notebook o script de python donde resuelvan el problema. Recuerden que interpretaciones, comentarios y formato son susceptibles de ser evaluados. Hora de entrega 9:30pm. "
   ]
  },
  {
   "cell_type": "markdown",
   "metadata": {},
   "source": [
    "**a)** Una nave espacial es lanzada a una altitud $H = 772$ km sobre el nivel del mar con una velocidad $v_0 = 6700$m/s en la dirección mostrada en la figura inferior. Las ecuaciones diferenciales que describen el movimiento de la nave son \n",
    "\n",
    "$$ \\ddot{r} = r\\dot{\\theta}^2 -\\frac{G M_e}{r^2}$$\n",
    "$$\\ddot{\\theta} = -\\frac{2\\dot{r}\\dot{\\theta}}{r} $$\n",
    "\n",
    "donde $r$ y $theta$ son las coordenadas de la nave espacial. Las constantes involucradas en el movimiento son \n",
    "\n",
    "La constante de gravitación universal\n",
    "$G = 6.672 \\times 10^{-11} m^3kg^{-1}s^{-2}$.\n",
    "La masa de la tierra\n",
    "$M_e = 5.9742\\times 10^{24} kg$.\n",
    "Radio de la tierra al nivel del mar\n",
    "$R_e = 6378.14km$.\n",
    "    \n",
    "**1)** Derive las ecuaciones diferenciales ordinarias de primer orden y las condiciones iniciales de la forma $\\dot{y} = F(t,y)$, $y(0)=b$ (Son 4 en total!). \n",
    "\n",
    "\n",
    "**2)** Usen el método de Runge-Kutta para integrar las ecuaciones desde el lanzamiento hasta que la nave golpea la tierra. Determine el ángulo en el sitio de impacto. Para encontrar un valor aproximado de este ángulo realice una interpolación de los datos que obtuvo con la integración numérica del problema. Use una librería para realizar la interpolación.\n",
    "\n",
    "**3)** Compare la gráfica de la solución obtenida con el integrador de scipy odeint. ¿Son similares las soluciones?\n",
    "\n",
    "***Tips:*** \n",
    "Recuerde que el punto sobre una variable indica derivada con respecto al tiempo, $\\dot{r} = \\frac{dr}{dt}$. Dos puntos es una segunda derivada.\n",
    "\n",
    "Leer detenidamente, las condiciones iniciales se encuentran en el enunciado. Recuerde que la velocidad angular  $\\dot{\\theta}$ para un movimiento circular es $\\frac{v_T}{R}$. \n",
    "\n"
   ]
  },
  {
   "cell_type": "markdown",
   "metadata": {},
   "source": [
    "<img src=\"./figures/circular_orbit.png\" style=\"width: 300px;\"/>"
   ]
  },
  {
   "cell_type": "markdown",
   "metadata": {},
   "source": [
    "**b)**  Decaimiento radiactivo: La caída espontánea es un proceso natural en el cual una partícula, sin estimulos externos, decaen en otros partículas. Entonces, el número total de partículas en una muestra decae con el tiempo, tal como el número de decaimientos. La probabilidad de decaimiento es constante por partícula y está dado por\n",
    "\n",
    "P=λ\n",
    "\n",
    "Determine cuando el decaimiento radiactivo luce exponencial y cuando luce estocástico dependiendo del número inicial de partículas $N(t)$. Para este propósito suponga que la tasa de decaimiento es $0.3\\times 10^6s^{−1}$. Haga una gráfica logarítmica para mostrar los resultados. \n"
   ]
  }
 ],
 "metadata": {
  "kernelspec": {
   "display_name": "Python 2",
   "language": "python",
   "name": "python2"
  },
  "language_info": {
   "codemirror_mode": {
    "name": "ipython",
    "version": 2
   },
   "file_extension": ".py",
   "mimetype": "text/x-python",
   "name": "python",
   "nbconvert_exporter": "python",
   "pygments_lexer": "ipython2",
   "version": "2.7.13"
  }
 },
 "nbformat": 4,
 "nbformat_minor": 2
}
