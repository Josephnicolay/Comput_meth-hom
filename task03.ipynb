{
 "metadata": {
  "kernelspec": {
   "display_name": "Python 2",
   "language": "python",
   "name": "python2"
  },
  "language_info": {
   "codemirror_mode": {
    "name": "ipython",
    "version": 2
   },
   "file_extension": ".py",
   "mimetype": "text/x-python",
   "name": "python",
   "nbconvert_exporter": "python",
   "pygments_lexer": "ipython2",
   "version": "2.7.10"
  },
  "name": "",
  "signature": "sha256:1872ce5e9b29b0942d472cee0116dc8050850d365291301b0a5a95cd11cd3358"
 },
 "nbformat": 3,
 "nbformat_minor": 0,
 "worksheets": [
  {
   "cells": [
    {
     "cell_type": "heading",
     "level": 2,
     "metadata": {},
     "source": [
      "Bisection exercises"
     ]
    },
    {
     "cell_type": "markdown",
     "metadata": {},
     "source": [
      "**1) ** A trough of length L has a cross section in the shape of a semicircle with radius r. \n",
      "When filled with water to within a distance h of the top, the volume V of water is\n",
      "\n",
      "$$\n",
      "V = L[0.5\\pi r^2 - r^2 \\arcsin(h/r) -h(r^2-h^2)^{1/2}]\n",
      "$$\n",
      "<img src=\"./figures/1.png\">\n",
      "\n",
      "Suppose $L = 10 ft$, $r = 1 ft$, and $V = 12.4 ft^3$. Find the depth of water in the trough.\n",
      "\n"
     ]
    },
    {
     "cell_type": "markdown",
     "metadata": {},
     "source": [
      "**2)** The speed v of a Saturn V rocket in vertical flight near the surface of the earth\n",
      "can be approximated by\n",
      "\n",
      "$$\n",
      "    v = u \\ln \\frac{M_0}{M_0-\\dot{m}t} -gt\n",
      "$$\n",
      "\n",
      "where $u = 2510m/s$: velocity of exhaust relative to the rocket, $M_0=2.8\\times 10^6 kg$: mass of rocket at liftoff,\n",
      "$\\dot{m}=13.3\\times 10^3 kg/s$: rate of fuel consumption, g: gravitational acceleration, t: time measured from liftoff.\n",
      "\n",
      "Determine the time when the rocket reaches the speed of sound (335 m/s). Does bisection method lead you to the right answer?"
     ]
    },
    {
     "cell_type": "markdown",
     "metadata": {},
     "source": [
      "**3)** Suppose two points $(x_0, y_0)$ and $(x_1, y_1)$ are on a straight line with $y_1 \\neq y_0$. Two formulas are available\n",
      "to find the x-intercept of the line:\n",
      "\n",
      "$$\n",
      "x = \\frac{x_0y_1-x_1y_0}{y_1-y_0}\n",
      "$$\n",
      "$$\n",
      "x = x_0 - \\frac{(x_1-x_0)y_0}{y_1-y_0}\n",
      "$$\n",
      "\n",
      "**a.** Show that both formulas are algebraically correct.\n",
      "\n",
      "**b.** Use the data $(x_0, y_0)$ = (1.31, 3.24) and $(x_1, y_1)$ = (1.93, 4.76) and three-digit rounding arithmetic\n",
      "to compute the x-intercept both ways. Which method is better and why?"
     ]
    }
   ],
   "metadata": {}
  }
 ]
}