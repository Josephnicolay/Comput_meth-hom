{
 "cells": [
  {
   "cell_type": "markdown",
   "metadata": {},
   "source": [
    "## Test 01"
   ]
  },
  {
   "cell_type": "markdown",
   "metadata": {},
   "source": [
    "For the next test a Jupyter notebook must be used. A function for every method explained in class must be included and use different methods to find the roots explaining the behaviour in each case.\n",
    "\n",
    "The test must be sent until wednesday 6 until noon at most."
   ]
  },
  {
   "cell_type": "markdown",
   "metadata": {},
   "source": [
    "**1)** The Schrodinger equation for a particle in a potential box is given by\n",
    "\n",
    "$$ -\\frac{\\hbar^2}{2m}\\frac{d^2 u}{dx^2} + V(x)u(x) = Eu(x) $$\n",
    "\n",
    "where the potential is defined as $ V(x) =  -V_0$ in the interval $0<x<a$. The wave function that is obtained in this problem is\n",
    "\n",
    "\n",
    "\n",
    "$$ u(x) = A\\sin(\\sqrt{2m(V_0-|E|)}x/\\hbar) $$\n",
    "\n",
    "and\n",
    "\n",
    "$$ u(x) = B\\exp(-\\sqrt{2m|E|}x/\\hbar) $$ \n",
    "\n",
    "for $x<a$ and $x>a$ respectively.\n",
    "\n",
    "From the continuity requirement on the wave equation at $r=a$ a trascendental equation is obtained\n",
    "\n",
    "$$ \\sqrt{2m(V_0- |E|)}\\cot(\\sqrt{2ma^2(V_0-|E|)})/\\hbar = -\\sqrt{2m|E|} $$\n",
    "\n",
    "Find the zeros of the function if the potential barrier is $V_0 = 20 MeV$, $a=2fm$ and $m=938MeV$, this is, the binding energy for the particle. "
   ]
  },
  {
   "cell_type": "markdown",
   "metadata": {
    "collapsed": true
   },
   "source": [
    "**2)** Several of astrophysical systems can be described with the help of hydrodynamics and general relativy. Due to the complexity of these systems, there are only a few analytical solutions for them, and that explains why is necessary to use numerical methods. For example, to determine the dynamics of a gas nearby a black hole is necessary to recover the generic hydrodynamic quantities given by the next system of equations:\n",
    "\n",
    "the next expression provides the evolution of the total relativistic energy density measured by an eulerian observer \n",
    "\n",
    "$$ \\frac{d}{dt}[\\alpha E - \\beta^i S_i] = -\\frac{1}{D^*}\\left[ \\partial_i [-\\sqrt{-g}(p+q)v^i] + \\frac{\\sqrt{-g}}{2} T^{\\alpha\\beta}\\partial_t g_{\\alpha\\beta} \\right] $$\n",
    "\n",
    "where E is the total relativistic specific energy. Also, a continuity equation is satisfied\n",
    "\n",
    "$$\\frac{dD^*}{dt} + D^*\\partial_i v^i = 0$$\n",
    "\n",
    "where $D^*$ is the relativistic rest-mass density. And the expression\n",
    "\n",
    "$$ \\frac{d}{dt}S_i = -\\frac{1}{D^*}\\left[ \\partial_i[\\sqrt{-g}(p+q)] -\\frac{\\sqrt{g}}{2}T^{\\alpha\\beta}\\partial_i g_{\\alpha\\beta} \\right] $$\n",
    "\n",
    "where $S_i$ is the relativistic specific momentum. Finally, considering that it satisfies the ideal gas equation \n",
    "\n",
    "$$p= (\\Gamma -1)\\rho\\epsilon$$\n",
    "\n",
    "with $\\Gamma$ being the ideal adiabatic constant. \n",
    "\n",
    "But in order to find the generic hydrodynamic quantities $(v^i,p,\\rho,\\epsilon)$ first is necessary to find the roots of the following fourth order equation \n",
    "\n",
    "$$(S^2- \\hat{E}^2)\\gamma^4 + 2G\\hat{E}\\gamma^3 + (\\hat{E}^2-2GS^2-G^2)\\gamma^2 - 2G\\hat{E}\\gamma + G^2(1+S^2) = 0$$\n",
    "\n",
    "where $G = 1 - 1/\\Gamma$ and the lorentz factor is given by $\\gamma = 1/\\sqrt{1-v^2/c^2}$. \n",
    "\n",
    "Consider a gas with $\\Gamma=1$ and rewrite the equation in terms of $a= S^2/\\hat{E^2}$. \n",
    "Choose a value such that $0<a<1$ and find the root with physical sense. \n",
    "\n",
    "http://aip.scitation.org/doi/abs/10.1063/1.3473873"
   ]
  },
  {
   "cell_type": "markdown",
   "metadata": {},
   "source": [
    "**3)** Load the files den_field.dat and pos.dat. The first file corresponds to the density in every point inside of a cosmological box of len L. NG is the grid size, i.e., the number of points per dimension where the density is known. Delta_X is the size of every cell obtained in the grid. \n",
    "\n",
    "<img src=\"./figures/cubic_box.png\" style=\"width: 250px;\"/>\n",
    "\n",
    "Use the next lines after loading the files:"
   ]
  },
  {
   "cell_type": "code",
   "execution_count": null,
   "metadata": {
    "collapsed": true
   },
   "outputs": [],
   "source": [
    "NG = int(data[0])\n",
    "Lbox = data[1]\n",
    "DELTA_X = data[2]\n",
    "NumberP = data[3]\n",
    "dens = data[4:len(data)+1]\n",
    "dens = np.reshape(dens,(NG,NG,NG))"
   ]
  },
  {
   "cell_type": "markdown",
   "metadata": {},
   "source": [
    "Use the function shape to know the shape of dens array and remember it contains the information of the density in every point in the box. \n",
    "\n",
    "**Meshgrid:**\n",
    "Create arrays with the positions per dimension (x,y,z) in the box using the fact that the first position is 0 and the last one is L and the size of the grid. With these 3 arrays and using the meshgrid function, create a mesh, i.e., obtain the positions for every cell in the cosmological box. \n",
    "\n",
    "**Slice of one cell:** \n",
    "Choose an specific slices of cells in the box, for example, x=0 and x=DELTA_X (first cells) where y and z can takes all the posible values found in the last step. \n",
    "\n",
    "Using the particles file, where the columns are X, Y and Z respectively, select the particles that are in the range defined, i.e., select using x range defined (in the example this is x=0 and x=DELTA_X).\n",
    "\n",
    "**Make a map: ** Using the function contourf create a map of the slice of the density field. This is, plot density array for the cells chost. In this example, this position is 0 in the x coordinate but all the positions in y and z must be used. \n",
    "\n",
    "plt.contourf(X[:,:,pos],Y[:,:,pos],dens[:,:,pos],cmap=\"hot\")\n",
    "\n",
    "**Make a plot:** Using the particles that you select in slice of one cell, plot the positions obtained. The map and the positions should coincide.\n",
    "\n",
    "A plot as shown must be recovered. \n",
    "\n",
    "<img src=\"./figures/map2.png\" style=\"width: 400px;\"/>"
   ]
  },
  {
   "cell_type": "code",
   "execution_count": 36,
   "metadata": {
    "collapsed": true
   },
   "outputs": [],
   "source": [
    "a = 2.e-15\n",
    "hbar = 6.582e-16/1.e6"
   ]
  },
  {
   "cell_type": "code",
   "execution_count": 6,
   "metadata": {
    "collapsed": false
   },
   "outputs": [
    {
     "name": "stdout",
     "output_type": "stream",
     "text": [
      "Populating the interactive namespace from numpy and matplotlib\n"
     ]
    }
   ],
   "source": [
    "import numpy as np\n",
    "import matplotlib.pylab as plt\n",
    "import mpmath as mpm\n",
    "%pylab inline"
   ]
  },
  {
   "cell_type": "code",
   "execution_count": 24,
   "metadata": {
    "collapsed": false
   },
   "outputs": [],
   "source": [
    "#term1 = np.sqrt( 2*m*(V0-E) )* (np.tan(np.sqrt( 2*m*a**2*(V0-E) ))/hbar) **(-1.)\n",
    "#term2 = np.sqrt(2*m*E)\n",
    "#return term1+term2\n",
    "\n",
    "def func(E):\n",
    "    \n",
    "    #E = np.fabs(E)\n",
    "    #kappa = np.sqrt( 2*m*(V0-E) )/hbar\n",
    "    #k = np.sqrt( 2*m*E )/hbar\n",
    "    \n",
    "    eta = np.linspace(0.01*pi,pi*0.2,100)\n",
    "    #k*L*0.5\n",
    "    eps0 = L*0.5*np.sqrt( 2*m*V0 )/hbar\n",
    "    #np.sqrt( (eps0/eta)**2-1 ) + np.tan(eta + np.pi*0.5) \n",
    "    #(np.cos(eta)/np.sin(eta))\n",
    "    #mpmath.cot(x)\n",
    "    #a = np.zeros(len(eta))\n",
    "    #for i in xrange(0,len(eta)):\n",
    "     #   a[i] = mpm.cot(eta[i])\n",
    "    return eta, np.tan(eta + np.pi*0.5) \n"
   ]
  },
  {
   "cell_type": "code",
   "execution_count": 25,
   "metadata": {
    "collapsed": false
   },
   "outputs": [
    {
     "data": {
      "text/plain": [
       "[<matplotlib.lines.Line2D at 0x7fc468fbcb50>]"
      ]
     },
     "execution_count": 25,
     "metadata": {},
     "output_type": "execute_result"
    },
    {
     "data": {
      "image/png": "[encoded data removed]",
      "text/plain": [
       "<matplotlib.figure.Figure at 0x7fc46c7d2f90>"
      ]
     },
     "metadata": {},
     "output_type": "display_data"
    }
   ],
   "source": [
    "m= 9.1e-31\n",
    "L = 4e-10#\n",
    "V0 = 14\n",
    "hbar = 6.58e-16\n",
    "\n",
    "xi = np.linspace(0.1,10,1000)\n",
    "x0 = func(xi)[0]\n",
    "x1 = func(xi)[1]\n",
    "plt.plot(x0,x1)\n"
   ]
  },
  {
   "cell_type": "code",
   "execution_count": 18,
   "metadata": {
    "collapsed": false
   },
   "outputs": [
    {
     "data": {
      "text/plain": [
       "array([  8.93765388e+33,   9.04236636e+33,   9.14588006e+33,\n",
       "         9.24823522e+33,   9.34946990e+33,   9.44962010e+33,\n",
       "         9.54871995e+33,   9.64680182e+33,   9.74389645e+33,\n",
       "         9.84003306e+33,   9.93523947e+33,   1.00295422e+34,\n",
       "         1.01229664e+34,   1.02155363e+34,   1.03072748e+34,\n",
       "         1.03982040e+34,   1.04883449e+34,   1.05777177e+34,\n",
       "         1.06663417e+34,   1.07542353e+34,   1.08414164e+34,\n",
       "         1.09279020e+34,   1.10137085e+34,   1.10988516e+34,\n",
       "         1.11833466e+34,   1.12672079e+34,   1.13504496e+34,\n",
       "         1.14330853e+34,   1.15151279e+34,   1.15965902e+34,\n",
       "         1.16774842e+34,   1.17578216e+34,   1.18376139e+34,\n",
       "         1.19168718e+34,   1.19956062e+34,   1.20738270e+34,\n",
       "         1.21515444e+34,   1.22287679e+34,   1.23055068e+34,\n",
       "         1.23817701e+34,   1.24575665e+34,   1.25329045e+34,\n",
       "         1.26077924e+34,   1.26822380e+34,   1.27562492e+34,\n",
       "         1.28298334e+34,   1.29029981e+34,   1.29757501e+34,\n",
       "         1.30480966e+34,   1.31200441e+34,   1.31915992e+34,\n",
       "         1.32627683e+34,   1.33335575e+34,   1.34039728e+34,\n",
       "         1.34740202e+34,   1.35437053e+34,   1.36130337e+34,\n",
       "         1.36820107e+34,   1.37506418e+34,   1.38189321e+34,\n",
       "         1.38868865e+34,   1.39545100e+34,   1.40218073e+34,\n",
       "         1.40887833e+34,   1.41554423e+34,   1.42217889e+34,\n",
       "         1.42878274e+34,   1.43535621e+34,   1.44189971e+34,\n",
       "         1.44841365e+34,   1.45489842e+34,   1.46135442e+34,\n",
       "         1.46778203e+34,   1.47418160e+34,   1.48055352e+34,\n",
       "         1.48689813e+34,   1.49321579e+34,   1.49950682e+34,\n",
       "         1.50577158e+34,   1.51201037e+34,   1.51822353e+34,\n",
       "         1.52441137e+34,   1.53057419e+34,   1.53671229e+34,\n",
       "         1.54282598e+34,   1.54891553e+34,   1.55498124e+34,\n",
       "         1.56102337e+34,   1.56704221e+34,   1.57303803e+34,\n",
       "         1.57901107e+34,   1.58496160e+34,   1.59088988e+34,\n",
       "         1.59679615e+34,   1.60268065e+34,   1.60854362e+34,\n",
       "         1.61438531e+34,   1.62020593e+34,   1.62600571e+34,\n",
       "         1.63178488e+34])"
      ]
     },
     "execution_count": 18,
     "metadata": {},
     "output_type": "execute_result"
    }
   ],
   "source": [
    "func(xi)[0]"
   ]
  },
  {
   "cell_type": "code",
   "execution_count": 63,
   "metadata": {
    "collapsed": false
   },
   "outputs": [
    {
     "name": "stderr",
     "output_type": "stream",
     "text": [
      "/home/nataly/anaconda2/lib/python2.7/site-packages/ipykernel/__main__.py:14: RuntimeWarning: divide by zero encountered in divide\n",
      "/home/nataly/anaconda2/lib/python2.7/site-packages/ipykernel/__main__.py:14: RuntimeWarning: divide by zero encountered in reciprocal\n"
     ]
    },
    {
     "data": {
      "text/plain": [
       "[<matplotlib.lines.Line2D at 0x7f0aa0597890>]"
      ]
     },
     "execution_count": 63,
     "metadata": {},
     "output_type": "execute_result"
    },
    {
     "data": {
      "image/png": "[encoded data removed]",
      "text/plain": [
       "<matplotlib.figure.Figure at 0x7f0aa02c9510>"
      ]
     },
     "metadata": {},
     "output_type": "display_data"
    }
   ],
   "source": [
    "m = 90.\n",
    "L = 1.\n",
    "V0 = 20.    \n",
    "xi = np.linspace(0,1,10)\n",
    "plt.plot(xi,func(xi))\n"
   ]
  },
  {
   "cell_type": "code",
   "execution_count": null,
   "metadata": {
    "collapsed": true
   },
   "outputs": [],
   "source": []
  },
  {
   "cell_type": "code",
   "execution_count": null,
   "metadata": {
    "collapsed": true
   },
   "outputs": [],
   "source": []
  }
 ],
 "metadata": {
  "kernelspec": {
   "display_name": "Python 2",
   "language": "python",
   "name": "python2"
  },
  "language_info": {
   "codemirror_mode": {
    "name": "ipython",
    "version": 2
   },
   "file_extension": ".py",
   "mimetype": "text/x-python",
   "name": "python",
   "nbconvert_exporter": "python",
   "pygments_lexer": "ipython2",
   "version": "2.7.13"
  }
 },
 "nbformat": 4,
 "nbformat_minor": 2
}
