{
 "cells": [
  {
   "cell_type": "markdown",
   "metadata": {},
   "source": [
    "## Lanchester's Combat models "
   ]
  },
  {
   "cell_type": "markdown",
   "metadata": {},
   "source": [
    "\n",
    "\n",
    "Ancient warfare can be study through a very simple model,  Lanchester's Combat models. These type of models predict the result of a battle field \n",
    "of two armies,  predicting the army strength and its chages with time. To model an actual battle field, there are several models that are simple \n",
    "modifications of Lanchester's but imply solving partial differential equations systems. That is why, the courses involving military combat operations\n",
    "use Lanchester's models as a first step in introducing more advanced models. \n",
    "\n",
    "Consider two armies, the red and blue one. The interaction between these armies in the battefield depends on \tthe amount of initial strength( population \n",
    "and resources) of every army, x and y respectively.  The initial strength of every army is chaging with time due to different aspects, \tthe normal\n",
    "ratio of deceased people caused by accidents, deseases or other factor not related with the battle. Then, there is a fraction of the army population\n",
    "that is being diminished, e and n are these operational losses of red and blue. It is clear that depends on the current strength of the army x and y.\n",
    "\n",
    "Also, there is other loss rate, the one caused by  combat, i.e., killing activities due to the enemy army.  The a and b coefficients are the effectiveness of y killing x and x killing y, respectively. But loss rate is proportional to the actual army strength that is being diminished.\n",
    "\n",
    "It is necessary to consider that an army can have reinforcements during the battle, this is given by the function f(t) and g(t), for the army red and \n",
    "blue, respectively. \n",
    "\n",
    "The first model consider a conventional battle,  i. e.,  the two armies are within their killing range, visible and out of in the open.  The equations\n",
    "of this system are given by \n",
    "\n",
    "\\begin{eqnarray}  \n",
    "\\frac{dx}{dt} = -ay  - ex + f(t) \\\\ \\nonumber\n",
    "\\frac{dy}{dt} = -bx - ny + g(t)\n",
    "\\end{eqnarray}\n",
    "\n",
    "But if one of the armies has guerilla members, then the interaction requieres the opposing army physically engage the guerilla forces. This type\n",
    "of interaction is achived multiplying both armies strengths. The blue army would be the guerilla. \n",
    "\n",
    "\\begin{eqnarray}  \n",
    "\\frac{dx}{dt} &=& -cxy  - ex + f(t) \\\\ \\nonumber\n",
    "\\frac{dy}{dt} &=& -bx - ny + g(t)\n",
    "\\end{eqnarray}\n"
   ]
  },
  {
   "cell_type": "markdown",
   "metadata": {},
   "source": [
    "Activities"
   ]
  },
  {
   "cell_type": "markdown",
   "metadata": {},
   "source": [
    "The battle of Iwo Jimma of world war II occurs in the island of  Iwo  Jimma in 1945. The US army arrived to the island with a strength of 110000 while the Japan army had a strength of 23000. \n",
    "\n",
    "http://www.history.com/topics/world-war-ii/battle-of-iwo-jima\n",
    "\n",
    "\n",
    "Not only the japanese army had a big disavantage because of the US stregth but also because of the imposibility of the japanese retreat or reinforcement.  Assume for equations (1) a = 0.5b and e =2n, and  for equations (2) c = 0.5b and e =2n. \n",
    "Besides, suppose there is no reinforcement for the US army in 1 or 2.  Consider that the US army wins when the Japan army population is zero( only approximately), this was very close to what actually happened. \n",
    "\n",
    "1)Suppose some operational losses coeffients and effectiveness coefficients that allows to get the US army a victory in a range of 2 to 20 units of time. (10$\\%$)\n",
    "\n",
    "2)Solve the system using a RK4 and Euler routine.\n",
    "\n",
    "3)Make a plot of the solutions obtained with every method. \n",
    "\n",
    "5)Use scipy odeint to solve the last problem and compare them to the ones obtained\n",
    "with RK4 and Euler. \n",
    "\n",
    "4)The Japanese army was trying to build underground tunnels in all of islands but it did not get it on time. Would the Japanese army stand more in front of the US army if had contruct them according to the guerilla model(equations 2)? \n",
    "The guerilla army hides within urbal and natural environments. Take the same coefficients you assume in 1. Solve the system using a RK4 routine.  \n",
    "\n",
    "5)Make a plot of the solutions obtained in 4.\n"
   ]
  }
 ],
 "metadata": {
  "kernelspec": {
   "display_name": "Python 2",
   "language": "python",
   "name": "python2"
  },
  "language_info": {
   "codemirror_mode": {
    "name": "ipython",
    "version": 2
   },
   "file_extension": ".py",
   "mimetype": "text/x-python",
   "name": "python",
   "nbconvert_exporter": "python",
   "pygments_lexer": "ipython2",
   "version": "2.7.13"
  }
 },
 "nbformat": 4,
 "nbformat_minor": 2
}
