{
 "cells": [
  {
   "cell_type": "markdown",
   "metadata": {},
   "source": [
    "## Test 01"
   ]
  },
  {
   "cell_type": "markdown",
   "metadata": {},
   "source": [
    "For the next test a Jupyter notebook must be used. A function for every method explained in class must be included and use different methods to find the roots explaining the behaviour in each case."
   ]
  },
  {
   "cell_type": "markdown",
   "metadata": {},
   "source": [
    "**1)** The Schrodinger equation for a particle in a potential box is given by\n",
    "\n",
    "$$ -\\frac{\\hbar^2}{2m}\\frac{d^2 u}{dx^2} + V(x)u(x) = Eu(x) $$\n",
    "\n",
    "where the potential is defined as $ V(r) =  -V_0$ in the interval $0<x<a$. The wave function that is obtained in this problem is\n",
    "\n",
    "\n",
    "\n",
    "$$ u(r) = A\\sin(\\sqrt{2m(V_0-|E|)}r/\\hbar) $$\n",
    "\n",
    "and\n",
    "\n",
    "$$ u(r) = B\\exp(-\\sqrt{2m|E|}r/\\hbar) $$ \n",
    "\n",
    "for $r<a$ and $r>a$ respectively.\n",
    "\n",
    "From the continuity requirement on the wave equation at $r=a$ a trascendental equation is obtained\n",
    "\n",
    "$$ \\sqrt{2m(V_0- |E|)}\\cot(\\sqrt{2ma^2(V_0-|E|)}/\\hbar) = -\\sqrt{2m|E|} $$\n",
    "\n",
    "Find the zeros of the function if the potential barrier is $V_0 = 20 MeV$, $a=2fm$ and $m=938MeV$, this is, the binding energy for the particle. "
   ]
  },
  {
   "cell_type": "markdown",
   "metadata": {
    "collapsed": true
   },
   "source": [
    "**2)** Several of astrophysical systems can be described with the help of hydrodynamics and general relativy. Due to the complexity of these systems, there are only a few analytical solutions for them, and that explains why is necessary to use numerical methods. For example, to determine the dynamics of a gas nearby a black hole is necessary to recover the generic hydrodynamic quantities given by the next system of equations:\n",
    "\n",
    "the next expression provides the evolution of the total relativistic energy density measured by an eulerian observer \n",
    "\n",
    "$$ \\frac{d}{dt}[\\alpha E - \\beta^i S_i] = -\\frac{1}{D^*}\\left[ \\partial_i [-\\sqrt{-g}(p+q)v^i] + \\frac{\\sqrt{-g}}{2} T^{\\alpha\\beta}\\partial_t g_{\\alpha\\beta} \\right] $$\n",
    "\n",
    "where E is the total relativistic specific energy. Also, a continuity equation is satisfied\n",
    "\n",
    "$$\\frac{dD^*}{dt} + D^*\\partial_i v^i = 0$$\n",
    "\n",
    "where $D^*$ is the relativistic rest-mass density. And the expression\n",
    "\n",
    "$$ \\frac{d}{dt}S_i = -\\frac{1}{D^*}\\left[ \\partial_i[\\sqrt{-g}(p+q)] -\\frac{\\sqrt{g}}{2}T^{\\alpha\\beta}\\partial_i g_{\\alpha\\beta} \\right] $$\n",
    "\n",
    "where $S_i$ is the relativistic specific momentum. Finally, considering that it satisfies the ideal gas equation \n",
    "\n",
    "$$p= (\\Gamma -1)\\rho\\epsilon$$\n",
    "\n",
    "with $\\Gamma$ being the ideal adiabatic constant. \n",
    "\n",
    "But in order to find the generic hydrodynamic quantities $(v^i,p,\\rho,\\epsilon)$ first is necessary to find the roots of the following fourth order equation \n",
    "\n",
    "$$(S^2- \\hat{E}^2)\\gamma^4 + 2G\\hat{E}\\gamma^3 + (\\hat{E}^2-2GS^2-G^2)\\gamma^2 - 2G\\hat{E}\\gamma + G^2(1+S^2) = 0$$\n",
    "\n",
    "where $G = 1 - 1/\\Gamma$ and the lorentz factor is given by $\\gamma = 1/\\sqrt{1-v^2/c^2}$. \n",
    "\n",
    "Consider a gas with $\\Gamma=1$ and rewrite the equation in terms of $a= S^2/E^2$. \n",
    "Choose a value such that $1<a<0$ and find the root with physical sense. \n",
    "\n",
    "http://aip.scitation.org/doi/abs/10.1063/1.3473873"
   ]
  }
 ],
 "metadata": {
  "kernelspec": {
   "display_name": "Python 2",
   "language": "python",
   "name": "python2"
  },
  "language_info": {
   "codemirror_mode": {
    "name": "ipython",
    "version": 2
   },
   "file_extension": ".py",
   "mimetype": "text/x-python",
   "name": "python",
   "nbconvert_exporter": "python",
   "pygments_lexer": "ipython2",
   "version": "2.7.13"
  }
 },
 "nbformat": 4,
 "nbformat_minor": 2
}
