{
 "cells": [
  {
   "cell_type": "markdown",
   "metadata": {},
   "source": [
    "### Using the Newton Raphson method solve:"
   ]
  },
  {
   "cell_type": "markdown",
   "metadata": {},
   "source": [
    "The figure shows the thermodynamic cycle of an engine. The efficiency of this engine for monatomic gas is\n",
    "\t\n",
    "<img src=\"./figures/ciclotermo.png\" style=\"width: 400px;\"/>\n",
    "\n",
    "$$\n",
    "\\eta = \\frac{\\ln(T_2/T_1) - (1 - T_1/T_2)}{\\ln(T_2/T_1) + (1 - T_1/T_2)/(\\gamma - 1)}\n",
    "$$\n",
    "\n",
    "where T is the absolute temperature and $\\gamma = 5/3$. Find $T_2/T_1$ that results in 30$\\%$\n",
    "efficiency ($\\eta = 0.3$).\n"
   ]
  },
  {
   "cell_type": "markdown",
   "metadata": {},
   "source": [
    "### Using Fixed point method solve:"
   ]
  },
  {
   "cell_type": "markdown",
   "metadata": {},
   "source": [
    "An object falling vertically through the air is subjected to viscous resistance as well as to the force of gravity. Assume that an object with mass m is dropped from a height $s_0$ and that the height of the object after t seconds is\n",
    "\n",
    "$$\n",
    "s(t) = s_0 − \\frac{mg}{k} t + \\frac{m^2g}{k^2}(1 − \\exp(−kt/m) ),\n",
    "$$\n",
    " \n",
    "\n",
    " \n",
    "\n",
    " \n",
    "where $g = 32.17 ft/s^2$ and $k$ represents the coefficient of air resistance in $lb-s/ft$. Suppose $s_0 = 300 ft$,\n",
    "$m = 0.25 lb$, and $k = 0.1 lb-s/ft$. Find the time it takes this object to hit the ground.\n"
   ]
  },
  {
   "cell_type": "markdown",
   "metadata": {},
   "source": [
    "### Using bisection method solve:"
   ]
  },
  {
   "cell_type": "markdown",
   "metadata": {},
   "source": [
    "The speed v of a Saturn V rocket in vertical flight near the surface of the earth\n",
    "can be approximated by\n",
    "\n",
    "$$\n",
    "    v = u \\ln \\frac{M_0}{M_0-\\dot{m}t} -gt\n",
    "$$\n",
    "\n",
    "where $u = 2510m/s$: velocity of exhaust relative to the rocket, $M_0=2.8\\times 10^6 kg$: mass of rocket at liftoff,\n",
    "$\\dot{m}=13.3\\times 10^3 kg/s$: rate of fuel consumption, g: gravitational acceleration, t: time measured from liftoff.\n",
    "\n",
    "Determine the time when the rocket reaches the speed of sound (335 m/s). Does bisection method lead you to the right answer?"
   ]
  }
 ],
 "metadata": {
  "kernelspec": {
   "display_name": "Python 2",
   "language": "python",
   "name": "python2"
  },
  "language_info": {
   "codemirror_mode": {
    "name": "ipython",
    "version": 2
   },
   "file_extension": ".py",
   "mimetype": "text/x-python",
   "name": "python",
   "nbconvert_exporter": "python",
   "pygments_lexer": "ipython2",
   "version": "2.7.14"
  }
 },
 "nbformat": 4,
 "nbformat_minor": 1
}
