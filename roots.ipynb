{
 "metadata": {
  "name": "",
  "signature": "sha256:2375d84e40414b309e374810fc3e70fb5aef62905f330c3dbbc975aa33d39743"
 },
 "nbformat": 3,
 "nbformat_minor": 0,
 "worksheets": [
  {
   "cells": [
    {
     "cell_type": "markdown",
     "metadata": {},
     "source": [
      "### Using the Newton Raphson method solve:"
     ]
    },
    {
     "cell_type": "markdown",
     "metadata": {},
     "source": [
      "The figure shows the thermodynamic cycle of an engine. The efficiency of this engine for monatomic gas is\n",
      "\t\n",
      "<img src=\"./figures/ciclotermo.png\" style=\"width: 400px;\"/>\n",
      "\n",
      "$$\n",
      "\\eta = \\frac{\\ln(T_2/T_1) - (1 - T_1/T_2)}{\\ln(T_2/T_1) + (1 - T_1/T_2)/(\\gamma - 1)}\n",
      "$$\n",
      "\n",
      "where T is the absolute temperature and $\\gamma = 5/3$. Find $T_2/T_1$ that results in 30$\\%$\n",
      "efficiency ($\\eta = 0.3$).\n"
     ]
    },
    {
     "cell_type": "markdown",
     "metadata": {},
     "source": [
      "###Using Fixed point method solve:"
     ]
    },
    {
     "cell_type": "markdown",
     "metadata": {},
     "source": [
      "An object falling vertically through the air is subjected to viscous resistance as well as to the force of gravity. Assume that an object with mass m is dropped from a height $s_0$ and that the height of the object after t seconds is\n",
      "\n",
      "$$\n",
      "s(t) = s_0 \u2212 \\frac{mg}{k} t + \\frac{m^2g}{k^2}(1 \u2212 \\exp(\u2212kt/m) ),\n",
      "$$\n",
      " \n",
      "\n",
      " \n",
      "\n",
      " \n",
      "where $g = 32.17 ft/s^2$ and $k$ represents the coefficient of air resistance in $lb-s/ft$. Suppose $s_0 = 300 ft$,\n",
      "$m = 0.25 lb$, and $k = 0.1 lb-s/ft$. Find the time it takes this object to hit the ground.\n"
     ]
    }
   ],
   "metadata": {}
  }
 ]
}