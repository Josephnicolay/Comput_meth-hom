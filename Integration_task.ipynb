{
 "cells": [
  {
   "cell_type": "markdown",
   "metadata": {},
   "source": [
    "## Integration task"
   ]
  },
  {
   "cell_type": "markdown",
   "metadata": {},
   "source": [
    "The mass m is attached to a spring of free length b and stiffness k. The coefficient\n",
    "of friction between the mass and the horizontal rod is μ. The acceleration of the\n",
    "mass can be shown to be (you may wish to prove this) ẍ = −f (x), where \n",
    "\n",
    "$$ f(x) = μg + \\frac{k}{m}(μb + x)\\left( 1-\\frac{b}{\\sqrt{b^2+x^2}} \\right) $$\n",
    "\n",
    "If the mass is released from rest at x = b, its speed at x = 0 is given by\n",
    "\n",
    "$$v_0 = \\sqrt{2\\int_0^b f(x)dx} $$\n",
    "\n",
    "Compute v 0 by numerical integration using the data $m = 0.8 kg$, $b = 0.4 m$, μ =\n",
    "$0.3$, $k = 80 N/m$, and $g = 9.81 m/s^2$.\n"
   ]
  },
  {
   "cell_type": "markdown",
   "metadata": {},
   "source": [
    "<img src=\"./figures/spring.png\" style=\"width: 300px;\"/>"
   ]
  }
 ],
 "metadata": {
  "kernelspec": {
   "display_name": "Python 2",
   "language": "python",
   "name": "python2"
  },
  "language_info": {
   "codemirror_mode": {
    "name": "ipython",
    "version": 2
   },
   "file_extension": ".py",
   "mimetype": "text/x-python",
   "name": "python",
   "nbconvert_exporter": "python",
   "pygments_lexer": "ipython2",
   "version": "2.7.13"
  }
 },
 "nbformat": 4,
 "nbformat_minor": 2
}
