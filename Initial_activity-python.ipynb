{
 "metadata": {
  "kernelspec": {
   "display_name": "Python 2",
   "language": "python",
   "name": "python2"
  },
  "language_info": {
   "codemirror_mode": {
    "name": "ipython",
    "version": 2
   },
   "file_extension": ".py",
   "mimetype": "text/x-python",
   "name": "python",
   "nbconvert_exporter": "python",
   "pygments_lexer": "ipython2",
   "version": "2.7.10"
  },
  "name": "",
  "signature": "sha256:cb33ac2c27c6b3c6920ea83fabcb81755a15dbbacbd5677e860148364164249f"
 },
 "nbformat": 3,
 "nbformat_minor": 0,
 "worksheets": [
  {
   "cells": [
    {
     "cell_type": "heading",
     "level": 1,
     "metadata": {
      "collapsed": false
     },
     "source": [
      "Basic Activity"
     ]
    },
    {
     "cell_type": "markdown",
     "metadata": {},
     "source": [
      "Solve the next exercises:"
     ]
    },
    {
     "cell_type": "markdown",
     "metadata": {},
     "source": [
      "##Harmonic oscillator\n",
      "\n",
      "A mass connected to a spring is moved to an initial position A from where it is released. Then the mass starts moving, consider the initial time equal to zero. Find the evolution of the system considering that obeys the following expressions\n",
      "\n",
      "\\begin{eqnarray*}\n",
      "X(t) &=& +A \\cos(\\omega t)\\\\\n",
      "V(t) &=& -A\\omega\\sin(\\omega t)\\\\\n",
      "a(t) &=& -A\\omega^2\\cos(\\omega t) \n",
      "\\end{eqnarray*}\n",
      "\n",
      "\n",
      "Make a plot of the evolution of the position, velocity and acceleration of the system. Feel free to choose the parameters you prefer. \n",
      "\n",
      "It can be also shown that the potential and kinetic energy of the system is given by\n",
      "\n",
      "\\begin{eqnarray*}\n",
      "E_p &=& \\frac{1}{2}kX^2\\\\\n",
      "E_k &=& \\frac{1}{2}mV^2\n",
      "\\end{eqnarray*}\n",
      "\n",
      "Make a plot of the potential energy and the total energy obtained for every step of the iteration. Use the subplot function. "
     ]
    },
    {
     "cell_type": "markdown",
     "metadata": {},
     "source": [
      "##Numpy arrays\n",
      "\n",
      "**1)** Write a program that evals a function $f(x) = \\sin(x) \\ln(1x+1) \\sinh(x)$ in the interval $[0,...,10]$. The function must receive the step $dx$ for the sucesive evaluations. \n",
      "The result must be written in a file of 3 columns, the first one is the value i of the counter of the cycle for, the second one is x and the third one is f(x). \n",
      "Make the same program but using numpy arrays properties. \n",
      "\n",
      "**2)** Write a program that sort a list of N numbers.\n"
     ]
    },
    {
     "cell_type": "markdown",
     "metadata": {},
     "source": [
      "**3)** Write a program that evaluates the $\\cos(x)\\ \\ $ function by using the Taylor expansion using $2$, $5$ and $10$ terms.\n",
      "\n",
      "$$\\cos(x) = \\sum_{n=0}^\\infty \\frac{(-1)^n}{(2n!)}x^{2n}\\ \\ \\ $$ for all x.\n"
     ]
    }
   ],
   "metadata": {}
  }
 ]
}