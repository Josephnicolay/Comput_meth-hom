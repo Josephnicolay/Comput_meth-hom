{
 "cells": [
  {
   "cell_type": "markdown",
   "metadata": {},
   "source": [
    "# Task 02 "
   ]
  },
  {
   "cell_type": "markdown",
   "metadata": {},
   "source": [
    "\n",
    "**1)** The two-by-two linear system\n",
    "\n",
    "$$ax + by = e,$$\n",
    "\n",
    "$$cx + dy = f,$$\n",
    "\n",
    "where a, b, c, d, e, f are given, can be solved for x and y as follows:\n",
    "\n",
    "set $m = c/a$, provided $a\\neq 0$;\n",
    "\n",
    "$$d_1 = d − mb;$$\n",
    "\n",
    "$$f_1 = f − me;$$\n",
    "\n",
    "$$y = \\frac{f_1}{d_1};$$\n",
    "\n",
    "$$x = \\frac{(e − by)}{a}$$\n",
    "\n",
    "Solve the following linear systems using float 16 rounding arithmetic.\n",
    "\n",
    "**a.**\n",
    "$$1.130x − 6.990y = 14.20$$\n",
    "\n",
    "$$1.013x − 6.099y = 14.22$$\n",
    "\n",
    "**b.**\n",
    "$$8.110x + 12.20y = −0.1370$$\n",
    "\n",
    "$$−18.11x + 112.2y = −0.1376$$\n",
    "\n",
    "Compare with double precision arithmetic. What are your conclusions?"
   ]
  },
  {
   "cell_type": "markdown",
   "metadata": {},
   "source": [
    "**2)** Bernoulli’s equation for fluid flow in an open channel with a small bump is\n",
    "\n",
    "$$ \\frac{Q^2}{2gb^2h^2_0} + h_0 = \\frac{Q^2}{2gb^2h^2} + h + H$$\n",
    "\n",
    "<img src=\"./figures/channel.png\" style=\"width: 350px;\"/>\n",
    "\n",
    "where\n",
    "\n",
    "$Q = 1.2 m^3/s = \\hbox{volume rate of flow}$\n",
    "\n",
    "$g = 9.81 m/s^2 = \\hbox{gravitational acceleration}$\n",
    "\n",
    "$b = 1.8 m = \\hbox{width of channel}$\n",
    "\n",
    "$h_0 = 0.6 m = \\hbox{upstream water level}$\n",
    "\n",
    "$H = 0.075 m = \\hbox{height of bump}$\n",
    "\n",
    "$h = \\hbox{water level above the bump}$\n",
    "\n",
    "Determine h. Use two methods of your choice and comment if it is possible to solve the problem using them. Justify your answer.  "
   ]
  }
 ],
 "metadata": {
  "kernelspec": {
   "display_name": "Python 2",
   "language": "python",
   "name": "python2"
  },
  "language_info": {
   "codemirror_mode": {
    "name": "ipython",
    "version": 2
   },
   "file_extension": ".py",
   "mimetype": "text/x-python",
   "name": "python",
   "nbconvert_exporter": "python",
   "pygments_lexer": "ipython2",
   "version": "2.7.13"
  }
 },
 "nbformat": 4,
 "nbformat_minor": 2
}
