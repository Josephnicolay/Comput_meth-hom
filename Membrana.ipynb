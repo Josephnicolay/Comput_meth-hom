{
 "cells": [
  {
   "cell_type": "markdown",
   "metadata": {},
   "source": [
    "## Oscilaciones en una membrana circular"
   ]
  },
  {
   "cell_type": "markdown",
   "metadata": {},
   "source": [
    "\n",
    "Una membrana inicialmente en reposo y desplazada respecto a su posición de equilibrio. Esta tiene un borde fijo a un aro circular\n",
    "de radio $R$. La solución para el modo $n=1$ y $l=2$ está dado por \n",
    "\n",
    "$$\n",
    "\\Phi(\\rho,\\phi,t) = J_1\\left( \\frac{x_{12}\\rho}{R} \\right) \\left( D_{12}e^{i \\phi}  +E_{12} e^{-i \\phi}\\right)\\cos\\left(\\frac{x_{12}}{R}vt\\right)\n",
    "$$\n",
    "\n",
    "\n",
    "donde $\\Phi(\\rho,\\phi,t)$ es la función de onda, $J_1$ es la función de Bessel de orden $1$,\n",
    "$R$ es el radio de la membrana y $v$ es la velocidad de la onda en la membrana. El término\n",
    "$x_{12}$ está relacionado con la frecuencia natural de la membrana y es segundo cero de la función de Bessel de orden 1. "
   ]
  },
  {
   "cell_type": "markdown",
   "metadata": {},
   "source": [
    "Además las constantes $D_{12}$ y $E_{12}$ son\n",
    "\n",
    "$$\n",
    "D_{12} = \\int_0^R \\int_0^{2\\pi} \\rho (\\cos\\phi-i\\sin\\phi) J_1\\left(x_{12}\\frac{\\rho}{R}\\right)d\\rho d\\phi\n",
    "$$\n",
    "$$\n",
    "E_{12} = \\int_0^R \\int_0^{2\\pi} \\rho (\\cos\\phi+ i\\sin\\phi) J_1\\left(x_{12} \\frac\\rho{R}\\right)d\\phi d \\rho\n",
    "$$\n",
    "\n",
    "Grafique el modo de oscilación de la membrana circular, una gráfica 3D, g\n",
    "guarde las gráficas generadas.\n"
   ]
  },
  {
   "cell_type": "markdown",
   "metadata": {},
   "source": [
    "Debería obtener algo similar a la imagen mostrada a continuación\n",
    "\n",
    "<img src=\"figures/mode_12.png\" style=\"width: 500px;\"/>"
   ]
  }
 ],
 "metadata": {
  "kernelspec": {
   "display_name": "Python 3",
   "language": "python",
   "name": "python3"
  },
  "language_info": {
   "codemirror_mode": {
    "name": "ipython",
    "version": 3
   },
   "file_extension": ".py",
   "mimetype": "text/x-python",
   "name": "python",
   "nbconvert_exporter": "python",
   "pygments_lexer": "ipython3",
   "version": "3.6.3"
  }
 },
 "nbformat": 4,
 "nbformat_minor": 2
}
