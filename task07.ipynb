{
 "cells": [
  {
   "cell_type": "markdown",
   "metadata": {},
   "source": [
    "## Integration "
   ]
  },
  {
   "cell_type": "markdown",
   "metadata": {},
   "source": [
    "** 1 ** Suppose a body of mass m is traveling vertically upward starting at the surface of the earth. If all resistance except gravity is neglected, the escape velocity v is given by\n",
    "\n",
    "$$ v^2 = 2gR\\int^\\infty_1 z^{-2}dz $$ \n",
    "\n",
    "where $z=x/R$, R = 3960 miles is the radius of the earth, and g = 0.00609 $mi/s^2$ is the force of gravity at the earth’s surface. Approximate the escape velocity v.\n"
   ]
  },
  {
   "cell_type": "markdown",
   "metadata": {},
   "source": [
    "**2. ** The error function, which is of importance in statistics, is defined as\n",
    "\n",
    "$$ erf(x) = \\frac{2}{\\sqrt{\\pi}} \\exp{-t^2} dt$$\n",
    "\n",
    "Write a program that uses Gauss quadrature to evaluate erf(x) for a\n",
    "given x."
   ]
  }
 ],
 "metadata": {
  "kernelspec": {
   "display_name": "Python 2",
   "language": "python",
   "name": "python2"
  },
  "language_info": {
   "codemirror_mode": {
    "name": "ipython",
    "version": 2
   },
   "file_extension": ".py",
   "mimetype": "text/x-python",
   "name": "python",
   "nbconvert_exporter": "python",
   "pygments_lexer": "ipython2",
   "version": "2.7.13"
  }
 },
 "nbformat": 4,
 "nbformat_minor": 2
}
