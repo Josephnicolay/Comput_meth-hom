{
 "cells": [
  {
   "cell_type": "markdown",
   "metadata": {},
   "source": [
    "## Task "
   ]
  },
  {
   "cell_type": "markdown",
   "metadata": {},
   "source": [
    "A python function for Lagrange polynomial must be provided with the solution of the next problem. "
   ]
  },
  {
   "cell_type": "markdown",
   "metadata": {},
   "source": [
    "**1.** The kinematic viscosity $μ_k$ of water varies with temperature T in the following\n",
    "manner:\n",
    "\n",
    "<img src=\"./figures/viscocity.png\" style=\"width: 500px;\"/>\n",
    "\n",
    "Interpolate $μ_k$ at T = $10°$ , $30°$ , $60°$ , and $90°C$. Is it possible to obtain the approximate value of the function for $110°C$, explain your answer.\n",
    "\n",
    "Next, plot the polynomial obtained using different degrees, i.e., $n=7,6,5$. What happens when increasing the order of the polynomial? \n"
   ]
  }
 ],
 "metadata": {
  "kernelspec": {
   "display_name": "Python 2",
   "language": "python",
   "name": "python2"
  },
  "language_info": {
   "codemirror_mode": {
    "name": "ipython",
    "version": 2
   },
   "file_extension": ".py",
   "mimetype": "text/x-python",
   "name": "python",
   "nbconvert_exporter": "python",
   "pygments_lexer": "ipython2",
   "version": "2.7.13"
  }
 },
 "nbformat": 4,
 "nbformat_minor": 2
}
